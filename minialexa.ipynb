{
 "cells": [
  {
   "cell_type": "code",
   "execution_count": null,
   "id": "6a13c62b",
   "metadata": {},
   "outputs": [],
   "source": [
    "import pyttsx3\n",
    "import speech_recognition as sr"
   ]
  },
  {
   "cell_type": "code",
   "execution_count": null,
   "id": "39d1686a",
   "metadata": {},
   "outputs": [],
   "source": [
    "engine = pyttsx3.init('sapi5')\n",
    "voices = engine.getProperty('voices')\n",
    "engine.setProperty('voices',voices[1].id)"
   ]
  },
  {
   "cell_type": "code",
   "execution_count": null,
   "id": "dff940e9",
   "metadata": {},
   "outputs": [],
   "source": [
    "def speak(audio):\n",
    "    engine.say(audio)\n",
    "    engine.runAndWait()"
   ]
  },
  {
   "cell_type": "code",
   "execution_count": null,
   "id": "24813dea",
   "metadata": {},
   "outputs": [],
   "source": [
    "def hearMe():\n",
    "    r = sr.Recognizer()\n",
    "    with sr.Microphone() as source:\n",
    "        print('LIstening..')\n",
    "        audio=r.listen(source)\n",
    "    try:\n",
    "        print('recognizing')\n",
    "        query = r.recognize_google(audio,language='en-in')\n",
    "\n",
    "        print('YOu said',query)\n",
    "        speak(query)\n",
    "    except Exception:\n",
    "        engine.say('say')\n",
    "        print(\"Say again\")\n",
    "    \n",
    "hearMe()"
   ]
  },
  {
   "cell_type": "markdown",
   "id": "bc94147b",
   "metadata": {},
   "source": [
    "# CODE: "
   ]
  },
  {
   "cell_type": "code",
   "execution_count": null,
   "id": "34552eb8",
   "metadata": {},
   "outputs": [],
   "source": [
    "import pyttsx3\n",
    "import speech_recognition as sr\n",
    "import datetime\n",
    "import wikipedia\n",
    "import pyjokes\n",
    "import pywhatkit\n",
    "import sys\n",
    "import webbrowser\n",
    "from datetime import date"
   ]
  },
  {
   "cell_type": "code",
   "execution_count": null,
   "id": "3f4dc030",
   "metadata": {},
   "outputs": [],
   "source": [
    "pip install pycopy-webbrowser"
   ]
  },
  {
   "cell_type": "code",
   "execution_count": null,
   "id": "c156b37c",
   "metadata": {},
   "outputs": [],
   "source": [
    "engine = pyttsx3.init('sapi5')\n",
    "voices = engine.getProperty('voices')\n",
    "engine.setProperty('voices',voices[1].id)"
   ]
  },
  {
   "cell_type": "code",
   "execution_count": null,
   "id": "d3eb9ea4",
   "metadata": {},
   "outputs": [],
   "source": [
    "def engine_talk(audio):\n",
    "    engine.say(audio)\n",
    "    engine.runAndWait()"
   ]
  },
  {
   "cell_type": "code",
   "execution_count": null,
   "id": "6dec5637",
   "metadata": {},
   "outputs": [
    {
     "name": "stdout",
     "output_type": "stream",
     "text": [
      "Clearing background noise.. please wait\n",
      "\n",
      "Hello i am mini alexa how can i help you??\n",
      "LIstening..\n",
      "You said: bye\n",
      "Bye\n",
      "LIstening..\n",
      "You said: break it\n",
      "LIstening..\n",
      "You said: bye bye bye\n",
      "Bye\n",
      "LIstening..\n",
      "You said: bye bye tata bye bye\n",
      "Bye\n",
      "LIstening..\n",
      "You said: sexy images\n",
      "LIstening..\n",
      "\n"
     ]
    }
   ],
   "source": [
    "import pyttsx3\n",
    "import speech_recognition as sr\n",
    "import datetime\n",
    "import wikipedia\n",
    "import pyjokes\n",
    "import pywhatkit\n",
    "import sys\n",
    "import webbrowser\n",
    "from datetime import date\n",
    "\n",
    "engine = pyttsx3.init('sapi5')\n",
    "voices = engine.getProperty('voices')\n",
    "engine.setProperty('voices',voices[1].id)\n",
    "\n",
    "def engine_talk(audio):\n",
    "    engine.say(audio)\n",
    "    engine.runAndWait()\n",
    "\n",
    "def hearMe():\n",
    "    r = sr.Recognizer()\n",
    "    with sr.Microphone() as source:\n",
    "        r.adjust_for_ambient_noise(source,duration=1)\n",
    "        print('LIstening..')\n",
    "#         engine_talk('Listening..')\n",
    "        audio=r.listen(source)\n",
    "    try:\n",
    "        \n",
    "        command = r.recognize_google(audio,language='en-in')\n",
    "        command = command.lower()\n",
    "        if 'alexa' in command:\n",
    "            command=command.replace('alexa','')\n",
    "            print('You said:',command)\n",
    "        else:\n",
    "            print('You said:',command)\n",
    "        list = ['tell me about','who is','wikipedia','what is']\n",
    "        for ele in list:\n",
    "            if ele in command:\n",
    "                name = command.replace(ele,'')\n",
    "                info = wikipedia.summary(name,2)\n",
    "                print(info)\n",
    "                engine_talk(info)\n",
    "                \n",
    "        if 'play' in command:\n",
    "            song = command.replace('play','')\n",
    "            print('Playing',song)\n",
    "            engine_talk('Playing'+song)\n",
    "            pywhatkit.playonyt(song)\n",
    "            \n",
    "        elif 'how to' in command:\n",
    "            task = command\n",
    "            print('Searching for:',task)\n",
    "            engine_talk('Opening youtube for the help')\n",
    "            pywhatkit.playonyt(task)\n",
    "            \n",
    "        elif 'hello' in command:\n",
    "            print('Hello you there, How can i help you??')\n",
    "            engine_talk('Hello you there, How can i help you??')\n",
    "        \n",
    "        elif 'time and date' in command:\n",
    "            date = date.today()\n",
    "            time = datetime.datetime.now().strftime('%I:%M %p')\n",
    "            print('Today date is',date,'and time is',time)\n",
    "            engine_talk('Today date is'+date+'and time is'+time)\n",
    "            \n",
    "        elif 'time' in command:\n",
    "            time = datetime.datetime.now().strftime('%I:%M %p')\n",
    "            print('Time is',time)\n",
    "            engine_talk('Time is'+time)\n",
    "        \n",
    "        elif 'date' in command:\n",
    "            date = date.today()\n",
    "            print('date: ',date)\n",
    "            engine_talk(date)\n",
    "        \n",
    "        elif 'my location' in command:\n",
    "#             url = 'https://www.google.com/Where+am+I+?/'\n",
    "            url=\"https://www.google.com/maps/d/viewer?gl=US&ie=UTF8&oe=UTF8&msa=0&t=m&z=13&vpsrc=0&err=1&mid=1FwJRQ0CrLfmmpfAmaseX-XfgZXk&ll=37.38502621578549%2C-122.09094999999999\"\n",
    "            webbrowser.get().open(url)\n",
    "        \n",
    "        elif 'joke' in command:\n",
    "            joke = pyjokes.get_joke()\n",
    "            print(joke)\n",
    "            engine_talk(joke)\n",
    "        \n",
    "        elif 'search' in command:\n",
    "            search = command.replace('search','')\n",
    "            url=\"https://www.google.com/search?q=\"+search\n",
    "            webbrowser.get().open(url)\n",
    "        elif 'bye' in command:\n",
    "            print('Bye')\n",
    "            engine_talk('Bye')\n",
    "            flag = False\n",
    "    except Exception as ex:\n",
    "\n",
    "        print(ex)\n",
    "print('Clearing background noise.. please wait\\n')\n",
    "engine_talk('Clearing background noise.. please wait')\n",
    "print(\"Hello i am mini alexa how can i help you??\")\n",
    "engine_talk(\"Hello i am mini alexa how can i help you??\")\n",
    "\n",
    "flag = True\n",
    "while flag:\n",
    "    hearMe()"
   ]
  },
  {
   "cell_type": "code",
   "execution_count": null,
   "id": "86b12b18",
   "metadata": {},
   "outputs": [],
   "source": [
    "date = date.today()\n",
    "time = datetime.datetime.now().strftime('%I:%M %p')\n",
    "speak(time)"
   ]
  }
 ],
 "metadata": {
  "kernelspec": {
   "display_name": "Python 3 (ipykernel)",
   "language": "python",
   "name": "python3"
  },
  "language_info": {
   "codemirror_mode": {
    "name": "ipython",
    "version": 3
   },
   "file_extension": ".py",
   "mimetype": "text/x-python",
   "name": "python",
   "nbconvert_exporter": "python",
   "pygments_lexer": "ipython3",
   "version": "3.9.7"
  }
 },
 "nbformat": 4,
 "nbformat_minor": 5
}
